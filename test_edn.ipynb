{
 "cells": [
  {
   "cell_type": "code",
   "execution_count": 1,
   "metadata": {
    "ExecuteTime": {
     "end_time": "2019-11-03T05:39:26.860211Z",
     "start_time": "2019-11-03T05:39:22.940929Z"
    }
   },
   "outputs": [],
   "source": [
    "\n",
    "%load_ext autoreload\n",
    "%autoreload 2\n",
    "\n",
    "import os\n",
    "import cv2\n",
    "import numpy as np\n",
    "import torch\n",
    "from tqdm import tqdm\n",
    "from imageio import get_writer\n",
    "from collections import OrderedDict"
   ]
  },
  {
   "cell_type": "code",
   "execution_count": 14,
   "metadata": {
    "ExecuteTime": {
     "end_time": "2019-11-03T05:46:16.945459Z",
     "start_time": "2019-11-03T05:46:16.774573Z"
    }
   },
   "outputs": [],
   "source": [
    "import util\n",
    "from models  import load_model\n",
    "from data    import load_data\n",
    "from options import base_options\n",
    "#from pose    import load_estimator"
   ]
  },
  {
   "cell_type": "code",
   "execution_count": 70,
   "metadata": {
    "ExecuteTime": {
     "end_time": "2019-11-03T06:39:06.500125Z",
     "start_time": "2019-11-03T06:39:06.245898Z"
    }
   },
   "outputs": [],
   "source": [
    "opt            = base_options.Options().parse(save=False)\n",
    "opt.isTrain    = False\n",
    "opt.name       = 'everybody_dance_now_temporal'\n",
    "opt.model      = 'pose2vid'\n",
    "opt.dataroot   = './datasets/'\n",
    "opt.which_epoch= 22\n",
    "opt.netG       = 'local'\n",
    "opt.ngf        = 32\n",
    "opt.label_nc   = 0\n",
    "opt.no_instance= True\n",
    "opt.resize_or_crop='no'"
   ]
  },
  {
   "cell_type": "code",
   "execution_count": 82,
   "metadata": {
    "ExecuteTime": {
     "end_time": "2019-11-03T06:42:33.885028Z",
     "start_time": "2019-11-03T06:42:33.600969Z"
    }
   },
   "outputs": [
    {
     "name": "stdout",
     "output_type": "stream",
     "text": [
      "dataset [AlignedPairDataset] was loaded\n",
      "150 150\n"
     ]
    },
    {
     "data": {
      "text/plain": [
       "<models.load_model.Pose2VidModel at 0x21cd731eb38>"
      ]
     },
     "execution_count": 82,
     "metadata": {},
     "output_type": "execute_result"
    }
   ],
   "source": [
    "dataset = load_data.load_dataset(opt)\n",
    "model   = load_model.load_model(opt)\n",
    "model"
   ]
  },
  {
   "cell_type": "code",
   "execution_count": 73,
   "metadata": {
    "ExecuteTime": {
     "end_time": "2019-11-03T06:39:27.325406Z",
     "start_time": "2019-11-03T06:39:24.717634Z"
    }
   },
   "outputs": [],
   "source": [
    "data    = dataset[0]"
   ]
  },
  {
   "cell_type": "code",
   "execution_count": 48,
   "metadata": {
    "ExecuteTime": {
     "end_time": "2019-11-03T06:30:20.806817Z",
     "start_time": "2019-11-03T06:30:20.521366Z"
    }
   },
   "outputs": [
    {
     "name": "stdout",
     "output_type": "stream",
     "text": [
      "data size:  150 \n",
      "dataroot:  ./datasets/ \n",
      "phase:  test\n"
     ]
    }
   ],
   "source": [
    "print(\n",
    "    'data size: ',dataset.dataset_size,\n",
    "    '\\ndataroot: ',opt.dataroot,\n",
    "    '\\nphase: ',opt.phase,)"
   ]
  },
  {
   "cell_type": "code",
   "execution_count": 77,
   "metadata": {
    "ExecuteTime": {
     "end_time": "2019-11-03T06:40:57.283713Z",
     "start_time": "2019-11-03T06:40:56.995957Z"
    }
   },
   "outputs": [],
   "source": [
    "from skimage.io import imsave\n",
    "prev_frame = torch.zeros_like(data['image'])\n",
    "start_from = 0\n",
    "generated = []"
   ]
  },
  {
   "cell_type": "code",
   "execution_count": 94,
   "metadata": {
    "ExecuteTime": {
     "end_time": "2019-11-03T06:47:12.510099Z",
     "start_time": "2019-11-03T06:47:12.192264Z"
    }
   },
   "outputs": [
    {
     "name": "stderr",
     "output_type": "stream",
     "text": [
      "  0%|                                                                                          | 0/150 [00:00<?, ?it/s]\n"
     ]
    },
    {
     "ename": "AttributeError",
     "evalue": "'Pose2VidModel' object has no attribute 'inference'",
     "output_type": "error",
     "traceback": [
      "\u001b[1;31m---------------------------------------------------------------------------\u001b[0m",
      "\u001b[1;31mAttributeError\u001b[0m                            Traceback (most recent call last)",
      "\u001b[1;32m<ipython-input-94-a0f3ef72f444>\u001b[0m in \u001b[0;36m<module>\u001b[1;34m\u001b[0m\n\u001b[0;32m      4\u001b[0m     \u001b[0minst\u001b[0m \u001b[1;33m=\u001b[0m \u001b[1;32mNone\u001b[0m \u001b[1;32mif\u001b[0m \u001b[0mopt\u001b[0m\u001b[1;33m.\u001b[0m\u001b[0mno_instance\u001b[0m \u001b[1;32melse\u001b[0m \u001b[0mdata\u001b[0m\u001b[1;33m[\u001b[0m\u001b[1;34m'inst'\u001b[0m\u001b[1;33m]\u001b[0m\u001b[1;33m[\u001b[0m\u001b[0mi\u001b[0m\u001b[1;33m:\u001b[0m\u001b[0mi\u001b[0m\u001b[1;33m+\u001b[0m\u001b[1;36m1\u001b[0m\u001b[1;33m]\u001b[0m\u001b[1;33m\u001b[0m\u001b[1;33m\u001b[0m\u001b[0m\n\u001b[0;32m      5\u001b[0m \u001b[1;33m\u001b[0m\u001b[0m\n\u001b[1;32m----> 6\u001b[1;33m     \u001b[0mcur_frame\u001b[0m \u001b[1;33m=\u001b[0m \u001b[0mmodel\u001b[0m\u001b[1;33m.\u001b[0m\u001b[0minference\u001b[0m\u001b[1;33m(\u001b[0m\u001b[0mlabel\u001b[0m\u001b[1;33m,\u001b[0m \u001b[0minst\u001b[0m\u001b[1;33m,\u001b[0m \u001b[0mtorch\u001b[0m\u001b[1;33m.\u001b[0m\u001b[0munsqueeze\u001b[0m\u001b[1;33m(\u001b[0m\u001b[0mprev_frame\u001b[0m\u001b[1;33m,\u001b[0m \u001b[0mdim\u001b[0m\u001b[1;33m=\u001b[0m\u001b[1;36m0\u001b[0m\u001b[1;33m)\u001b[0m\u001b[1;33m)\u001b[0m\u001b[1;33m\u001b[0m\u001b[1;33m\u001b[0m\u001b[0m\n\u001b[0m\u001b[0;32m      7\u001b[0m     \u001b[0mprev_frame\u001b[0m \u001b[1;33m=\u001b[0m \u001b[0mcur_frame\u001b[0m\u001b[1;33m.\u001b[0m\u001b[0mdata\u001b[0m\u001b[1;33m[\u001b[0m\u001b[1;36m0\u001b[0m\u001b[1;33m]\u001b[0m\u001b[1;33m\u001b[0m\u001b[1;33m\u001b[0m\u001b[0m\n\u001b[0;32m      8\u001b[0m \u001b[1;33m\u001b[0m\u001b[0m\n",
      "\u001b[1;31mAttributeError\u001b[0m: 'Pose2VidModel' object has no attribute 'inference'"
     ]
    }
   ],
   "source": [
    "for i in tqdm(range(start_from, dataset.clip_length)):\n",
    "    label = data['label'][i:i+1]\n",
    "    #print(label.shape)\n",
    "    inst = None if opt.no_instance else data['inst'][i:i+1]\n",
    "\n",
    "    cur_frame = model.inference(label, inst, torch.unsqueeze(prev_frame, dim=0))\n",
    "    prev_frame = cur_frame.data[0]\n",
    "    \n",
    "    imsave('./datasets/own_dance_test/test_sync/{:05d}.png'.format(i), util.tensor2im(prev_frame))\n",
    "    generated.append(util.tensor2im(prev_frame))"
   ]
  },
  {
   "cell_type": "code",
   "execution_count": null,
   "metadata": {},
   "outputs": [],
   "source": []
  }
 ],
 "metadata": {
  "hide_input": false,
  "kernelspec": {
   "display_name": "Python 3",
   "language": "python",
   "name": "python3"
  },
  "language_info": {
   "codemirror_mode": {
    "name": "ipython",
    "version": 3
   },
   "file_extension": ".py",
   "mimetype": "text/x-python",
   "name": "python",
   "nbconvert_exporter": "python",
   "pygments_lexer": "ipython3",
   "version": "3.7.3"
  },
  "latex_envs": {
   "LaTeX_envs_menu_present": true,
   "autoclose": true,
   "autocomplete": false,
   "bibliofile": "biblio.bib",
   "cite_by": "apalike",
   "current_citInitial": 1,
   "eqLabelWithNumbers": true,
   "eqNumInitial": 1,
   "hotkeys": {
    "equation": "Ctrl-E",
    "itemize": "Ctrl-I"
   },
   "labels_anchors": false,
   "latex_user_defs": false,
   "report_style_numbering": false,
   "user_envs_cfg": false
  },
  "toc": {
   "base_numbering": 1,
   "nav_menu": {},
   "number_sections": true,
   "sideBar": true,
   "skip_h1_title": false,
   "title_cell": "Table of Contents",
   "title_sidebar": "Contents",
   "toc_cell": false,
   "toc_position": {},
   "toc_section_display": true,
   "toc_window_display": false
  }
 },
 "nbformat": 4,
 "nbformat_minor": 2
}
